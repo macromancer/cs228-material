{
 "cells": [
  {
   "cell_type": "markdown",
   "metadata": {},
   "source": [
    "# An Introduction to Scientific Python – Pandas\n",
    "\n",
    "http://www.datadependence.com/2016/05/scientific-python-pandas/\n",
    "\n",
    "\n",
    "이 예제는 Anaconda 설치 후 아래 명령으로 환경을 생성한 다음 jupyter-notebook으로 실행해주세요.\n",
    "\n",
    "$ conda create -n dsci2 pandas matplotlib scikit-learn jupyter"
   ]
  },
  {
   "cell_type": "markdown",
   "metadata": {},
   "source": [
    "## IMPORTING PANDAS"
   ]
  },
  {
   "cell_type": "code",
   "execution_count": 1,
   "metadata": {
    "collapsed": false
   },
   "outputs": [],
   "source": [
    "import pandas as pd"
   ]
  },
  {
   "cell_type": "markdown",
   "metadata": {},
   "source": [
    "## Getting Data Into Pandas\n",
    "### Data from DATA.GOV.UK\n",
    "#### Average temperature and total rainfall in England and Wales\n",
    "https://data.gov.uk/dataset/average-temperature-and-rainfall-england-and-wales\n",
    "\n",
    "Outfall and rainfall for UK 1980 to 2013\n",
    "\n",
    "http://data.defra.gov.uk/statistics_2015/env/water/uk_rain_2014.csv\n",
    "\n",
    "참고: cURL 사용법: http://ohgyun.com/397\n"
   ]
  },
  {
   "cell_type": "code",
   "execution_count": 6,
   "metadata": {
    "collapsed": false
   },
   "outputs": [
    {
     "name": "stdout",
     "output_type": "stream",
     "text": [
      "  % Total    % Received % Xferd  Average Speed   Time    Time     Time  Current\n",
      "                                 Dload  Upload   Total   Spent    Left  Speed\n",
      "100  1361  100  1361    0     0   1534      0 --:--:-- --:--:-- --:--:--  1641\n"
     ]
    }
   ],
   "source": [
    "# 다운 받으려면 아래 주석 제거하고 실행\n",
    "!curl -o ~/Downloads/uk_rain_2014.csv http://data.defra.gov.uk/statistics_2015/env/water/uk_rain_2014.csv"
   ]
  },
  {
   "cell_type": "code",
   "execution_count": 7,
   "metadata": {
    "collapsed": false
   },
   "outputs": [],
   "source": [
    "df = pd.read_csv('~/Downloads/uk_rain_2014.csv', header=0)"
   ]
  },
  {
   "cell_type": "markdown",
   "metadata": {},
   "source": [
    "## GETTING YOUR DATA READY TO EXPLORE AND ANALYSE"
   ]
  },
  {
   "cell_type": "code",
   "execution_count": 8,
   "metadata": {
    "collapsed": false
   },
   "outputs": [
    {
     "data": {
      "text/html": [
       "<div>\n",
       "<table border=\"1\" class=\"dataframe\">\n",
       "  <thead>\n",
       "    <tr style=\"text-align: right;\">\n",
       "      <th></th>\n",
       "      <th>﻿Water Year</th>\n",
       "      <th>Rain (mm) Oct-Sep</th>\n",
       "      <th>Outflow (m3/s) Oct-Sep</th>\n",
       "      <th>Rain (mm) Dec-Feb</th>\n",
       "      <th>Outflow (m3/s) Dec-Feb</th>\n",
       "      <th>Rain (mm) Jun-Aug</th>\n",
       "      <th>Outflow (m3/s) Jun-Aug</th>\n",
       "    </tr>\n",
       "  </thead>\n",
       "  <tbody>\n",
       "    <tr>\n",
       "      <th>0</th>\n",
       "      <td>1980/81</td>\n",
       "      <td>1182</td>\n",
       "      <td>5408</td>\n",
       "      <td>292</td>\n",
       "      <td>7248</td>\n",
       "      <td>174</td>\n",
       "      <td>2212</td>\n",
       "    </tr>\n",
       "    <tr>\n",
       "      <th>1</th>\n",
       "      <td>1981/82</td>\n",
       "      <td>1098</td>\n",
       "      <td>5112</td>\n",
       "      <td>257</td>\n",
       "      <td>7316</td>\n",
       "      <td>242</td>\n",
       "      <td>1936</td>\n",
       "    </tr>\n",
       "    <tr>\n",
       "      <th>2</th>\n",
       "      <td>1982/83</td>\n",
       "      <td>1156</td>\n",
       "      <td>5701</td>\n",
       "      <td>330</td>\n",
       "      <td>8567</td>\n",
       "      <td>124</td>\n",
       "      <td>1802</td>\n",
       "    </tr>\n",
       "    <tr>\n",
       "      <th>3</th>\n",
       "      <td>1983/84</td>\n",
       "      <td>993</td>\n",
       "      <td>4265</td>\n",
       "      <td>391</td>\n",
       "      <td>8905</td>\n",
       "      <td>141</td>\n",
       "      <td>1078</td>\n",
       "    </tr>\n",
       "    <tr>\n",
       "      <th>4</th>\n",
       "      <td>1984/85</td>\n",
       "      <td>1182</td>\n",
       "      <td>5364</td>\n",
       "      <td>217</td>\n",
       "      <td>5813</td>\n",
       "      <td>343</td>\n",
       "      <td>4313</td>\n",
       "    </tr>\n",
       "  </tbody>\n",
       "</table>\n",
       "</div>"
      ],
      "text/plain": [
       "  ﻿Water Year  Rain (mm) Oct-Sep  Outflow (m3/s) Oct-Sep  Rain (mm) Dec-Feb  \\\n",
       "0     1980/81               1182                    5408                292   \n",
       "1     1981/82               1098                    5112                257   \n",
       "2     1982/83               1156                    5701                330   \n",
       "3     1983/84                993                    4265                391   \n",
       "4     1984/85               1182                    5364                217   \n",
       "\n",
       "   Outflow (m3/s) Dec-Feb  Rain (mm) Jun-Aug  Outflow (m3/s) Jun-Aug  \n",
       "0                    7248                174                    2212  \n",
       "1                    7316                242                    1936  \n",
       "2                    8567                124                    1802  \n",
       "3                    8905                141                    1078  \n",
       "4                    5813                343                    4313  "
      ]
     },
     "execution_count": 8,
     "metadata": {},
     "output_type": "execute_result"
    }
   ],
   "source": [
    "df.head(5)"
   ]
  },
  {
   "cell_type": "code",
   "execution_count": 9,
   "metadata": {
    "collapsed": false
   },
   "outputs": [
    {
     "data": {
      "text/html": [
       "<div>\n",
       "<table border=\"1\" class=\"dataframe\">\n",
       "  <thead>\n",
       "    <tr style=\"text-align: right;\">\n",
       "      <th></th>\n",
       "      <th>﻿Water Year</th>\n",
       "      <th>Rain (mm) Oct-Sep</th>\n",
       "      <th>Outflow (m3/s) Oct-Sep</th>\n",
       "      <th>Rain (mm) Dec-Feb</th>\n",
       "      <th>Outflow (m3/s) Dec-Feb</th>\n",
       "      <th>Rain (mm) Jun-Aug</th>\n",
       "      <th>Outflow (m3/s) Jun-Aug</th>\n",
       "    </tr>\n",
       "  </thead>\n",
       "  <tbody>\n",
       "    <tr>\n",
       "      <th>28</th>\n",
       "      <td>2008/09</td>\n",
       "      <td>1139</td>\n",
       "      <td>4941</td>\n",
       "      <td>268</td>\n",
       "      <td>6690</td>\n",
       "      <td>323</td>\n",
       "      <td>3189</td>\n",
       "    </tr>\n",
       "    <tr>\n",
       "      <th>29</th>\n",
       "      <td>2009/10</td>\n",
       "      <td>1103</td>\n",
       "      <td>4738</td>\n",
       "      <td>255</td>\n",
       "      <td>6435</td>\n",
       "      <td>244</td>\n",
       "      <td>1958</td>\n",
       "    </tr>\n",
       "    <tr>\n",
       "      <th>30</th>\n",
       "      <td>2010/11</td>\n",
       "      <td>1053</td>\n",
       "      <td>4521</td>\n",
       "      <td>265</td>\n",
       "      <td>6593</td>\n",
       "      <td>267</td>\n",
       "      <td>2885</td>\n",
       "    </tr>\n",
       "    <tr>\n",
       "      <th>31</th>\n",
       "      <td>2011/12</td>\n",
       "      <td>1285</td>\n",
       "      <td>5500</td>\n",
       "      <td>339</td>\n",
       "      <td>7630</td>\n",
       "      <td>379</td>\n",
       "      <td>5261</td>\n",
       "    </tr>\n",
       "    <tr>\n",
       "      <th>32</th>\n",
       "      <td>2012/13</td>\n",
       "      <td>1090</td>\n",
       "      <td>5329</td>\n",
       "      <td>350</td>\n",
       "      <td>9615</td>\n",
       "      <td>187</td>\n",
       "      <td>1797</td>\n",
       "    </tr>\n",
       "  </tbody>\n",
       "</table>\n",
       "</div>"
      ],
      "text/plain": [
       "   ﻿Water Year  Rain (mm) Oct-Sep  Outflow (m3/s) Oct-Sep  Rain (mm) Dec-Feb  \\\n",
       "28     2008/09               1139                    4941                268   \n",
       "29     2009/10               1103                    4738                255   \n",
       "30     2010/11               1053                    4521                265   \n",
       "31     2011/12               1285                    5500                339   \n",
       "32     2012/13               1090                    5329                350   \n",
       "\n",
       "    Outflow (m3/s) Dec-Feb  Rain (mm) Jun-Aug  Outflow (m3/s) Jun-Aug  \n",
       "28                    6690                323                    3189  \n",
       "29                    6435                244                    1958  \n",
       "30                    6593                267                    2885  \n",
       "31                    7630                379                    5261  \n",
       "32                    9615                187                    1797  "
      ]
     },
     "execution_count": 9,
     "metadata": {},
     "output_type": "execute_result"
    }
   ],
   "source": [
    "df.tail(5)"
   ]
  },
  {
   "cell_type": "code",
   "execution_count": 10,
   "metadata": {
    "collapsed": false
   },
   "outputs": [
    {
     "data": {
      "text/plain": [
       "Index([u'﻿Water Year', u'Rain (mm) Oct-Sep', u'Outflow (m3/s) Oct-Sep',\n",
       "       u'Rain (mm) Dec-Feb', u'Outflow (m3/s) Dec-Feb', u'Rain (mm) Jun-Aug',\n",
       "       u'Outflow (m3/s) Jun-Aug'],\n",
       "      dtype='object')"
      ]
     },
     "execution_count": 10,
     "metadata": {},
     "output_type": "execute_result"
    }
   ],
   "source": [
    "df.columns"
   ]
  },
  {
   "cell_type": "code",
   "execution_count": 11,
   "metadata": {
    "collapsed": false
   },
   "outputs": [
    {
     "data": {
      "text/html": [
       "<div>\n",
       "<table border=\"1\" class=\"dataframe\">\n",
       "  <thead>\n",
       "    <tr style=\"text-align: right;\">\n",
       "      <th></th>\n",
       "      <th>water_year</th>\n",
       "      <th>rain_octsep</th>\n",
       "      <th>outflow_octsep</th>\n",
       "      <th>rain_decfeb</th>\n",
       "      <th>outflow_decfeb</th>\n",
       "      <th>rain_junaug</th>\n",
       "      <th>outflow_junaug</th>\n",
       "    </tr>\n",
       "  </thead>\n",
       "  <tbody>\n",
       "    <tr>\n",
       "      <th>0</th>\n",
       "      <td>1980/81</td>\n",
       "      <td>1182</td>\n",
       "      <td>5408</td>\n",
       "      <td>292</td>\n",
       "      <td>7248</td>\n",
       "      <td>174</td>\n",
       "      <td>2212</td>\n",
       "    </tr>\n",
       "    <tr>\n",
       "      <th>1</th>\n",
       "      <td>1981/82</td>\n",
       "      <td>1098</td>\n",
       "      <td>5112</td>\n",
       "      <td>257</td>\n",
       "      <td>7316</td>\n",
       "      <td>242</td>\n",
       "      <td>1936</td>\n",
       "    </tr>\n",
       "    <tr>\n",
       "      <th>2</th>\n",
       "      <td>1982/83</td>\n",
       "      <td>1156</td>\n",
       "      <td>5701</td>\n",
       "      <td>330</td>\n",
       "      <td>8567</td>\n",
       "      <td>124</td>\n",
       "      <td>1802</td>\n",
       "    </tr>\n",
       "    <tr>\n",
       "      <th>3</th>\n",
       "      <td>1983/84</td>\n",
       "      <td>993</td>\n",
       "      <td>4265</td>\n",
       "      <td>391</td>\n",
       "      <td>8905</td>\n",
       "      <td>141</td>\n",
       "      <td>1078</td>\n",
       "    </tr>\n",
       "    <tr>\n",
       "      <th>4</th>\n",
       "      <td>1984/85</td>\n",
       "      <td>1182</td>\n",
       "      <td>5364</td>\n",
       "      <td>217</td>\n",
       "      <td>5813</td>\n",
       "      <td>343</td>\n",
       "      <td>4313</td>\n",
       "    </tr>\n",
       "  </tbody>\n",
       "</table>\n",
       "</div>"
      ],
      "text/plain": [
       "  water_year  rain_octsep  outflow_octsep  rain_decfeb  outflow_decfeb  \\\n",
       "0    1980/81         1182            5408          292            7248   \n",
       "1    1981/82         1098            5112          257            7316   \n",
       "2    1982/83         1156            5701          330            8567   \n",
       "3    1983/84          993            4265          391            8905   \n",
       "4    1984/85         1182            5364          217            5813   \n",
       "\n",
       "   rain_junaug  outflow_junaug  \n",
       "0          174            2212  \n",
       "1          242            1936  \n",
       "2          124            1802  \n",
       "3          141            1078  \n",
       "4          343            4313  "
      ]
     },
     "execution_count": 11,
     "metadata": {},
     "output_type": "execute_result"
    }
   ],
   "source": [
    "df.columns = ['water_year','rain_octsep', 'outflow_octsep',\n",
    "              'rain_decfeb', 'outflow_decfeb', 'rain_junaug', 'outflow_junaug']\n",
    " \n",
    "df.head(5)"
   ]
  },
  {
   "cell_type": "code",
   "execution_count": 12,
   "metadata": {
    "collapsed": false
   },
   "outputs": [
    {
     "data": {
      "text/plain": [
       "33"
      ]
     },
     "execution_count": 12,
     "metadata": {},
     "output_type": "execute_result"
    }
   ],
   "source": [
    "len(df)"
   ]
  },
  {
   "cell_type": "code",
   "execution_count": 13,
   "metadata": {
    "collapsed": false
   },
   "outputs": [
    {
     "data": {
      "text/html": [
       "<div>\n",
       "<table border=\"1\" class=\"dataframe\">\n",
       "  <thead>\n",
       "    <tr style=\"text-align: right;\">\n",
       "      <th></th>\n",
       "      <th>rain_octsep</th>\n",
       "      <th>outflow_octsep</th>\n",
       "      <th>rain_decfeb</th>\n",
       "      <th>outflow_decfeb</th>\n",
       "      <th>rain_junaug</th>\n",
       "      <th>outflow_junaug</th>\n",
       "    </tr>\n",
       "  </thead>\n",
       "  <tbody>\n",
       "    <tr>\n",
       "      <th>count</th>\n",
       "      <td>33.000</td>\n",
       "      <td>33.000</td>\n",
       "      <td>33.000</td>\n",
       "      <td>33.000</td>\n",
       "      <td>33.000</td>\n",
       "      <td>33.000</td>\n",
       "    </tr>\n",
       "    <tr>\n",
       "      <th>mean</th>\n",
       "      <td>1,129.000</td>\n",
       "      <td>5,019.182</td>\n",
       "      <td>325.364</td>\n",
       "      <td>7,926.545</td>\n",
       "      <td>237.485</td>\n",
       "      <td>2,439.758</td>\n",
       "    </tr>\n",
       "    <tr>\n",
       "      <th>std</th>\n",
       "      <td>101.900</td>\n",
       "      <td>658.588</td>\n",
       "      <td>69.995</td>\n",
       "      <td>1,692.800</td>\n",
       "      <td>66.168</td>\n",
       "      <td>1,025.914</td>\n",
       "    </tr>\n",
       "    <tr>\n",
       "      <th>min</th>\n",
       "      <td>856.000</td>\n",
       "      <td>3,479.000</td>\n",
       "      <td>206.000</td>\n",
       "      <td>4,578.000</td>\n",
       "      <td>103.000</td>\n",
       "      <td>1,078.000</td>\n",
       "    </tr>\n",
       "    <tr>\n",
       "      <th>25%</th>\n",
       "      <td>1,053.000</td>\n",
       "      <td>4,506.000</td>\n",
       "      <td>268.000</td>\n",
       "      <td>6,690.000</td>\n",
       "      <td>193.000</td>\n",
       "      <td>1,797.000</td>\n",
       "    </tr>\n",
       "    <tr>\n",
       "      <th>50%</th>\n",
       "      <td>1,139.000</td>\n",
       "      <td>5,112.000</td>\n",
       "      <td>309.000</td>\n",
       "      <td>7,630.000</td>\n",
       "      <td>229.000</td>\n",
       "      <td>2,142.000</td>\n",
       "    </tr>\n",
       "    <tr>\n",
       "      <th>75%</th>\n",
       "      <td>1,182.000</td>\n",
       "      <td>5,497.000</td>\n",
       "      <td>360.000</td>\n",
       "      <td>8,905.000</td>\n",
       "      <td>280.000</td>\n",
       "      <td>2,959.000</td>\n",
       "    </tr>\n",
       "    <tr>\n",
       "      <th>max</th>\n",
       "      <td>1,387.000</td>\n",
       "      <td>6,391.000</td>\n",
       "      <td>484.000</td>\n",
       "      <td>11,486.000</td>\n",
       "      <td>379.000</td>\n",
       "      <td>5,261.000</td>\n",
       "    </tr>\n",
       "  </tbody>\n",
       "</table>\n",
       "</div>"
      ],
      "text/plain": [
       "       rain_octsep  outflow_octsep  rain_decfeb  outflow_decfeb  rain_junaug  \\\n",
       "count       33.000          33.000       33.000          33.000       33.000   \n",
       "mean     1,129.000       5,019.182      325.364       7,926.545      237.485   \n",
       "std        101.900         658.588       69.995       1,692.800       66.168   \n",
       "min        856.000       3,479.000      206.000       4,578.000      103.000   \n",
       "25%      1,053.000       4,506.000      268.000       6,690.000      193.000   \n",
       "50%      1,139.000       5,112.000      309.000       7,630.000      229.000   \n",
       "75%      1,182.000       5,497.000      360.000       8,905.000      280.000   \n",
       "max      1,387.000       6,391.000      484.000      11,486.000      379.000   \n",
       "\n",
       "       outflow_junaug  \n",
       "count          33.000  \n",
       "mean        2,439.758  \n",
       "std         1,025.914  \n",
       "min         1,078.000  \n",
       "25%         1,797.000  \n",
       "50%         2,142.000  \n",
       "75%         2,959.000  \n",
       "max         5,261.000  "
      ]
     },
     "execution_count": 13,
     "metadata": {},
     "output_type": "execute_result"
    }
   ],
   "source": [
    "pd.options.display.float_format = '{:,.3f}'.format # Limit output to 3 decimal places.\n",
    "df.describe()"
   ]
  },
  {
   "cell_type": "markdown",
   "metadata": {},
   "source": [
    "## FILTERING"
   ]
  },
  {
   "cell_type": "code",
   "execution_count": 14,
   "metadata": {
    "collapsed": false
   },
   "outputs": [
    {
     "data": {
      "text/plain": [
       "28    1139\n",
       "29    1103\n",
       "30    1053\n",
       "31    1285\n",
       "32    1090\n",
       "Name: rain_octsep, dtype: int64"
      ]
     },
     "execution_count": 14,
     "metadata": {},
     "output_type": "execute_result"
    }
   ],
   "source": [
    "df['rain_octsep'].tail(5)"
   ]
  },
  {
   "cell_type": "code",
   "execution_count": 15,
   "metadata": {
    "collapsed": false
   },
   "outputs": [
    {
     "data": {
      "text/plain": [
       "28    1139\n",
       "29    1103\n",
       "30    1053\n",
       "31    1285\n",
       "32    1090\n",
       "Name: rain_octsep, dtype: int64"
      ]
     },
     "execution_count": 15,
     "metadata": {},
     "output_type": "execute_result"
    }
   ],
   "source": [
    "df.rain_octsep.tail(5)"
   ]
  },
  {
   "cell_type": "code",
   "execution_count": 16,
   "metadata": {
    "collapsed": false
   },
   "outputs": [
    {
     "data": {
      "text/plain": [
       "0     False\n",
       "1     False\n",
       "2     False\n",
       "3      True\n",
       "4     False\n",
       "5     False\n",
       "6     False\n",
       "7     False\n",
       "8      True\n",
       "9     False\n",
       "10    False\n",
       "11    False\n",
       "12    False\n",
       "13    False\n",
       "14    False\n",
       "15     True\n",
       "16    False\n",
       "17    False\n",
       "18    False\n",
       "19    False\n",
       "20    False\n",
       "21    False\n",
       "22    False\n",
       "23    False\n",
       "24    False\n",
       "25    False\n",
       "26    False\n",
       "27    False\n",
       "28    False\n",
       "29    False\n",
       "30    False\n",
       "31    False\n",
       "32    False\n",
       "Name: rain_octsep, dtype: bool"
      ]
     },
     "execution_count": 16,
     "metadata": {},
     "output_type": "execute_result"
    }
   ],
   "source": [
    "df.rain_octsep < 1000"
   ]
  },
  {
   "cell_type": "code",
   "execution_count": 17,
   "metadata": {
    "collapsed": false
   },
   "outputs": [
    {
     "data": {
      "text/html": [
       "<div>\n",
       "<table border=\"1\" class=\"dataframe\">\n",
       "  <thead>\n",
       "    <tr style=\"text-align: right;\">\n",
       "      <th></th>\n",
       "      <th>water_year</th>\n",
       "      <th>rain_octsep</th>\n",
       "      <th>outflow_octsep</th>\n",
       "      <th>rain_decfeb</th>\n",
       "      <th>outflow_decfeb</th>\n",
       "      <th>rain_junaug</th>\n",
       "      <th>outflow_junaug</th>\n",
       "    </tr>\n",
       "  </thead>\n",
       "  <tbody>\n",
       "    <tr>\n",
       "      <th>3</th>\n",
       "      <td>1983/84</td>\n",
       "      <td>993</td>\n",
       "      <td>4265</td>\n",
       "      <td>391</td>\n",
       "      <td>8905</td>\n",
       "      <td>141</td>\n",
       "      <td>1078</td>\n",
       "    </tr>\n",
       "    <tr>\n",
       "      <th>8</th>\n",
       "      <td>1988/89</td>\n",
       "      <td>976</td>\n",
       "      <td>4330</td>\n",
       "      <td>309</td>\n",
       "      <td>6465</td>\n",
       "      <td>200</td>\n",
       "      <td>1440</td>\n",
       "    </tr>\n",
       "    <tr>\n",
       "      <th>15</th>\n",
       "      <td>1995/96</td>\n",
       "      <td>856</td>\n",
       "      <td>3479</td>\n",
       "      <td>245</td>\n",
       "      <td>5515</td>\n",
       "      <td>172</td>\n",
       "      <td>1439</td>\n",
       "    </tr>\n",
       "  </tbody>\n",
       "</table>\n",
       "</div>"
      ],
      "text/plain": [
       "   water_year  rain_octsep  outflow_octsep  rain_decfeb  outflow_decfeb  \\\n",
       "3     1983/84          993            4265          391            8905   \n",
       "8     1988/89          976            4330          309            6465   \n",
       "15    1995/96          856            3479          245            5515   \n",
       "\n",
       "    rain_junaug  outflow_junaug  \n",
       "3           141            1078  \n",
       "8           200            1440  \n",
       "15          172            1439  "
      ]
     },
     "execution_count": 17,
     "metadata": {},
     "output_type": "execute_result"
    }
   ],
   "source": [
    "df[df.rain_octsep < 1000]"
   ]
  },
  {
   "cell_type": "code",
   "execution_count": 18,
   "metadata": {
    "collapsed": false
   },
   "outputs": [
    {
     "data": {
      "text/html": [
       "<div>\n",
       "<table border=\"1\" class=\"dataframe\">\n",
       "  <thead>\n",
       "    <tr style=\"text-align: right;\">\n",
       "      <th></th>\n",
       "      <th>water_year</th>\n",
       "      <th>rain_octsep</th>\n",
       "      <th>outflow_octsep</th>\n",
       "      <th>rain_decfeb</th>\n",
       "      <th>outflow_decfeb</th>\n",
       "      <th>rain_junaug</th>\n",
       "      <th>outflow_junaug</th>\n",
       "    </tr>\n",
       "  </thead>\n",
       "  <tbody>\n",
       "    <tr>\n",
       "      <th>15</th>\n",
       "      <td>1995/96</td>\n",
       "      <td>856</td>\n",
       "      <td>3479</td>\n",
       "      <td>245</td>\n",
       "      <td>5515</td>\n",
       "      <td>172</td>\n",
       "      <td>1439</td>\n",
       "    </tr>\n",
       "  </tbody>\n",
       "</table>\n",
       "</div>"
      ],
      "text/plain": [
       "   water_year  rain_octsep  outflow_octsep  rain_decfeb  outflow_decfeb  \\\n",
       "15    1995/96          856            3479          245            5515   \n",
       "\n",
       "    rain_junaug  outflow_junaug  \n",
       "15          172            1439  "
      ]
     },
     "execution_count": 18,
     "metadata": {},
     "output_type": "execute_result"
    }
   ],
   "source": [
    "df[(df.rain_octsep < 1000) & (df.outflow_octsep < 4000)]"
   ]
  },
  {
   "cell_type": "code",
   "execution_count": 19,
   "metadata": {
    "collapsed": false
   },
   "outputs": [
    {
     "data": {
      "text/html": [
       "<div>\n",
       "<table border=\"1\" class=\"dataframe\">\n",
       "  <thead>\n",
       "    <tr style=\"text-align: right;\">\n",
       "      <th></th>\n",
       "      <th>water_year</th>\n",
       "      <th>rain_octsep</th>\n",
       "      <th>outflow_octsep</th>\n",
       "      <th>rain_decfeb</th>\n",
       "      <th>outflow_decfeb</th>\n",
       "      <th>rain_junaug</th>\n",
       "      <th>outflow_junaug</th>\n",
       "    </tr>\n",
       "  </thead>\n",
       "  <tbody>\n",
       "    <tr>\n",
       "      <th>10</th>\n",
       "      <td>1990/91</td>\n",
       "      <td>1022</td>\n",
       "      <td>4418</td>\n",
       "      <td>305</td>\n",
       "      <td>7120</td>\n",
       "      <td>216</td>\n",
       "      <td>1923</td>\n",
       "    </tr>\n",
       "    <tr>\n",
       "      <th>11</th>\n",
       "      <td>1991/92</td>\n",
       "      <td>1151</td>\n",
       "      <td>4506</td>\n",
       "      <td>246</td>\n",
       "      <td>5493</td>\n",
       "      <td>280</td>\n",
       "      <td>2118</td>\n",
       "    </tr>\n",
       "    <tr>\n",
       "      <th>12</th>\n",
       "      <td>1992/93</td>\n",
       "      <td>1130</td>\n",
       "      <td>5246</td>\n",
       "      <td>308</td>\n",
       "      <td>8751</td>\n",
       "      <td>219</td>\n",
       "      <td>2551</td>\n",
       "    </tr>\n",
       "    <tr>\n",
       "      <th>13</th>\n",
       "      <td>1993/94</td>\n",
       "      <td>1162</td>\n",
       "      <td>5583</td>\n",
       "      <td>422</td>\n",
       "      <td>10109</td>\n",
       "      <td>193</td>\n",
       "      <td>1638</td>\n",
       "    </tr>\n",
       "    <tr>\n",
       "      <th>14</th>\n",
       "      <td>1994/95</td>\n",
       "      <td>1110</td>\n",
       "      <td>5370</td>\n",
       "      <td>484</td>\n",
       "      <td>11486</td>\n",
       "      <td>103</td>\n",
       "      <td>1231</td>\n",
       "    </tr>\n",
       "    <tr>\n",
       "      <th>15</th>\n",
       "      <td>1995/96</td>\n",
       "      <td>856</td>\n",
       "      <td>3479</td>\n",
       "      <td>245</td>\n",
       "      <td>5515</td>\n",
       "      <td>172</td>\n",
       "      <td>1439</td>\n",
       "    </tr>\n",
       "    <tr>\n",
       "      <th>16</th>\n",
       "      <td>1996/97</td>\n",
       "      <td>1047</td>\n",
       "      <td>4019</td>\n",
       "      <td>258</td>\n",
       "      <td>5770</td>\n",
       "      <td>256</td>\n",
       "      <td>2102</td>\n",
       "    </tr>\n",
       "    <tr>\n",
       "      <th>17</th>\n",
       "      <td>1997/98</td>\n",
       "      <td>1169</td>\n",
       "      <td>4953</td>\n",
       "      <td>341</td>\n",
       "      <td>7747</td>\n",
       "      <td>285</td>\n",
       "      <td>3206</td>\n",
       "    </tr>\n",
       "    <tr>\n",
       "      <th>18</th>\n",
       "      <td>1998/99</td>\n",
       "      <td>1268</td>\n",
       "      <td>5824</td>\n",
       "      <td>360</td>\n",
       "      <td>8771</td>\n",
       "      <td>225</td>\n",
       "      <td>2240</td>\n",
       "    </tr>\n",
       "    <tr>\n",
       "      <th>19</th>\n",
       "      <td>1999/00</td>\n",
       "      <td>1204</td>\n",
       "      <td>5665</td>\n",
       "      <td>417</td>\n",
       "      <td>10021</td>\n",
       "      <td>197</td>\n",
       "      <td>2166</td>\n",
       "    </tr>\n",
       "  </tbody>\n",
       "</table>\n",
       "</div>"
      ],
      "text/plain": [
       "   water_year  rain_octsep  outflow_octsep  rain_decfeb  outflow_decfeb  \\\n",
       "10    1990/91         1022            4418          305            7120   \n",
       "11    1991/92         1151            4506          246            5493   \n",
       "12    1992/93         1130            5246          308            8751   \n",
       "13    1993/94         1162            5583          422           10109   \n",
       "14    1994/95         1110            5370          484           11486   \n",
       "15    1995/96          856            3479          245            5515   \n",
       "16    1996/97         1047            4019          258            5770   \n",
       "17    1997/98         1169            4953          341            7747   \n",
       "18    1998/99         1268            5824          360            8771   \n",
       "19    1999/00         1204            5665          417           10021   \n",
       "\n",
       "    rain_junaug  outflow_junaug  \n",
       "10          216            1923  \n",
       "11          280            2118  \n",
       "12          219            2551  \n",
       "13          193            1638  \n",
       "14          103            1231  \n",
       "15          172            1439  \n",
       "16          256            2102  \n",
       "17          285            3206  \n",
       "18          225            2240  \n",
       "19          197            2166  "
      ]
     },
     "execution_count": 19,
     "metadata": {},
     "output_type": "execute_result"
    }
   ],
   "source": [
    "df[df.water_year.str.startswith('199')]"
   ]
  },
  {
   "cell_type": "markdown",
   "metadata": {
    "collapsed": true
   },
   "source": [
    "## INDEXING"
   ]
  },
  {
   "cell_type": "code",
   "execution_count": 20,
   "metadata": {
    "collapsed": false
   },
   "outputs": [
    {
     "data": {
      "text/plain": [
       "water_year        2010/11\n",
       "rain_octsep          1053\n",
       "outflow_octsep       4521\n",
       "rain_decfeb           265\n",
       "outflow_decfeb       6593\n",
       "rain_junaug           267\n",
       "outflow_junaug       2885\n",
       "Name: 30, dtype: object"
      ]
     },
     "execution_count": 20,
     "metadata": {},
     "output_type": "execute_result"
    }
   ],
   "source": [
    "df.iloc[30]"
   ]
  },
  {
   "cell_type": "code",
   "execution_count": 21,
   "metadata": {
    "collapsed": false
   },
   "outputs": [
    {
     "data": {
      "text/html": [
       "<div>\n",
       "<table border=\"1\" class=\"dataframe\">\n",
       "  <thead>\n",
       "    <tr style=\"text-align: right;\">\n",
       "      <th></th>\n",
       "      <th>rain_octsep</th>\n",
       "      <th>outflow_octsep</th>\n",
       "      <th>rain_decfeb</th>\n",
       "      <th>outflow_decfeb</th>\n",
       "      <th>rain_junaug</th>\n",
       "      <th>outflow_junaug</th>\n",
       "    </tr>\n",
       "    <tr>\n",
       "      <th>water_year</th>\n",
       "      <th></th>\n",
       "      <th></th>\n",
       "      <th></th>\n",
       "      <th></th>\n",
       "      <th></th>\n",
       "      <th></th>\n",
       "    </tr>\n",
       "  </thead>\n",
       "  <tbody>\n",
       "    <tr>\n",
       "      <th>1980/81</th>\n",
       "      <td>1182</td>\n",
       "      <td>5408</td>\n",
       "      <td>292</td>\n",
       "      <td>7248</td>\n",
       "      <td>174</td>\n",
       "      <td>2212</td>\n",
       "    </tr>\n",
       "    <tr>\n",
       "      <th>1981/82</th>\n",
       "      <td>1098</td>\n",
       "      <td>5112</td>\n",
       "      <td>257</td>\n",
       "      <td>7316</td>\n",
       "      <td>242</td>\n",
       "      <td>1936</td>\n",
       "    </tr>\n",
       "    <tr>\n",
       "      <th>1982/83</th>\n",
       "      <td>1156</td>\n",
       "      <td>5701</td>\n",
       "      <td>330</td>\n",
       "      <td>8567</td>\n",
       "      <td>124</td>\n",
       "      <td>1802</td>\n",
       "    </tr>\n",
       "    <tr>\n",
       "      <th>1983/84</th>\n",
       "      <td>993</td>\n",
       "      <td>4265</td>\n",
       "      <td>391</td>\n",
       "      <td>8905</td>\n",
       "      <td>141</td>\n",
       "      <td>1078</td>\n",
       "    </tr>\n",
       "    <tr>\n",
       "      <th>1984/85</th>\n",
       "      <td>1182</td>\n",
       "      <td>5364</td>\n",
       "      <td>217</td>\n",
       "      <td>5813</td>\n",
       "      <td>343</td>\n",
       "      <td>4313</td>\n",
       "    </tr>\n",
       "  </tbody>\n",
       "</table>\n",
       "</div>"
      ],
      "text/plain": [
       "            rain_octsep  outflow_octsep  rain_decfeb  outflow_decfeb  \\\n",
       "water_year                                                             \n",
       "1980/81            1182            5408          292            7248   \n",
       "1981/82            1098            5112          257            7316   \n",
       "1982/83            1156            5701          330            8567   \n",
       "1983/84             993            4265          391            8905   \n",
       "1984/85            1182            5364          217            5813   \n",
       "\n",
       "            rain_junaug  outflow_junaug  \n",
       "water_year                               \n",
       "1980/81             174            2212  \n",
       "1981/82             242            1936  \n",
       "1982/83             124            1802  \n",
       "1983/84             141            1078  \n",
       "1984/85             343            4313  "
      ]
     },
     "execution_count": 21,
     "metadata": {},
     "output_type": "execute_result"
    }
   ],
   "source": [
    "df = df.set_index(['water_year'])\n",
    "df.head(5)"
   ]
  },
  {
   "cell_type": "code",
   "execution_count": 22,
   "metadata": {
    "collapsed": false
   },
   "outputs": [
    {
     "data": {
      "text/plain": [
       "rain_octsep       1239\n",
       "outflow_octsep    6092\n",
       "rain_decfeb        328\n",
       "outflow_decfeb    9347\n",
       "rain_junaug        236\n",
       "outflow_junaug    2142\n",
       "Name: 2000/01, dtype: int64"
      ]
     },
     "execution_count": 22,
     "metadata": {},
     "output_type": "execute_result"
    }
   ],
   "source": [
    "df.loc[\"2000/01\"]"
   ]
  },
  {
   "cell_type": "code",
   "execution_count": 23,
   "metadata": {
    "collapsed": false
   },
   "outputs": [
    {
     "data": {
      "text/plain": [
       "rain_octsep        1204\n",
       "outflow_octsep     5665\n",
       "rain_decfeb         417\n",
       "outflow_decfeb    10021\n",
       "rain_junaug         197\n",
       "outflow_junaug     2166\n",
       "Name: 1999/00, dtype: int64"
      ]
     },
     "execution_count": 23,
     "metadata": {},
     "output_type": "execute_result"
    }
   ],
   "source": [
    "df.ix['1999/00']"
   ]
  },
  {
   "cell_type": "code",
   "execution_count": 24,
   "metadata": {
    "collapsed": false
   },
   "outputs": [
    {
     "data": {
      "text/html": [
       "<div>\n",
       "<table border=\"1\" class=\"dataframe\">\n",
       "  <thead>\n",
       "    <tr style=\"text-align: right;\">\n",
       "      <th></th>\n",
       "      <th>rain_octsep</th>\n",
       "      <th>outflow_octsep</th>\n",
       "      <th>rain_decfeb</th>\n",
       "      <th>outflow_decfeb</th>\n",
       "      <th>rain_junaug</th>\n",
       "      <th>outflow_junaug</th>\n",
       "    </tr>\n",
       "    <tr>\n",
       "      <th>water_year</th>\n",
       "      <th></th>\n",
       "      <th></th>\n",
       "      <th></th>\n",
       "      <th></th>\n",
       "      <th></th>\n",
       "      <th></th>\n",
       "    </tr>\n",
       "  </thead>\n",
       "  <tbody>\n",
       "    <tr>\n",
       "      <th>2012/13</th>\n",
       "      <td>1090</td>\n",
       "      <td>5329</td>\n",
       "      <td>350</td>\n",
       "      <td>9615</td>\n",
       "      <td>187</td>\n",
       "      <td>1797</td>\n",
       "    </tr>\n",
       "    <tr>\n",
       "      <th>2011/12</th>\n",
       "      <td>1285</td>\n",
       "      <td>5500</td>\n",
       "      <td>339</td>\n",
       "      <td>7630</td>\n",
       "      <td>379</td>\n",
       "      <td>5261</td>\n",
       "    </tr>\n",
       "    <tr>\n",
       "      <th>2010/11</th>\n",
       "      <td>1053</td>\n",
       "      <td>4521</td>\n",
       "      <td>265</td>\n",
       "      <td>6593</td>\n",
       "      <td>267</td>\n",
       "      <td>2885</td>\n",
       "    </tr>\n",
       "    <tr>\n",
       "      <th>2009/10</th>\n",
       "      <td>1103</td>\n",
       "      <td>4738</td>\n",
       "      <td>255</td>\n",
       "      <td>6435</td>\n",
       "      <td>244</td>\n",
       "      <td>1958</td>\n",
       "    </tr>\n",
       "    <tr>\n",
       "      <th>2008/09</th>\n",
       "      <td>1139</td>\n",
       "      <td>4941</td>\n",
       "      <td>268</td>\n",
       "      <td>6690</td>\n",
       "      <td>323</td>\n",
       "      <td>3189</td>\n",
       "    </tr>\n",
       "  </tbody>\n",
       "</table>\n",
       "</div>"
      ],
      "text/plain": [
       "            rain_octsep  outflow_octsep  rain_decfeb  outflow_decfeb  \\\n",
       "water_year                                                             \n",
       "2012/13            1090            5329          350            9615   \n",
       "2011/12            1285            5500          339            7630   \n",
       "2010/11            1053            4521          265            6593   \n",
       "2009/10            1103            4738          255            6435   \n",
       "2008/09            1139            4941          268            6690   \n",
       "\n",
       "            rain_junaug  outflow_junaug  \n",
       "water_year                               \n",
       "2012/13             187            1797  \n",
       "2011/12             379            5261  \n",
       "2010/11             267            2885  \n",
       "2009/10             244            1958  \n",
       "2008/09             323            3189  "
      ]
     },
     "execution_count": 24,
     "metadata": {},
     "output_type": "execute_result"
    }
   ],
   "source": [
    "df.sort_index(ascending=False).head(5)"
   ]
  },
  {
   "cell_type": "code",
   "execution_count": 25,
   "metadata": {
    "collapsed": false
   },
   "outputs": [
    {
     "data": {
      "text/html": [
       "<div>\n",
       "<table border=\"1\" class=\"dataframe\">\n",
       "  <thead>\n",
       "    <tr style=\"text-align: right;\">\n",
       "      <th></th>\n",
       "      <th>water_year</th>\n",
       "      <th>rain_octsep</th>\n",
       "      <th>outflow_octsep</th>\n",
       "      <th>rain_decfeb</th>\n",
       "      <th>outflow_decfeb</th>\n",
       "      <th>rain_junaug</th>\n",
       "      <th>outflow_junaug</th>\n",
       "    </tr>\n",
       "  </thead>\n",
       "  <tbody>\n",
       "    <tr>\n",
       "      <th>0</th>\n",
       "      <td>1980/81</td>\n",
       "      <td>1182</td>\n",
       "      <td>5408</td>\n",
       "      <td>292</td>\n",
       "      <td>7248</td>\n",
       "      <td>174</td>\n",
       "      <td>2212</td>\n",
       "    </tr>\n",
       "    <tr>\n",
       "      <th>1</th>\n",
       "      <td>1981/82</td>\n",
       "      <td>1098</td>\n",
       "      <td>5112</td>\n",
       "      <td>257</td>\n",
       "      <td>7316</td>\n",
       "      <td>242</td>\n",
       "      <td>1936</td>\n",
       "    </tr>\n",
       "    <tr>\n",
       "      <th>2</th>\n",
       "      <td>1982/83</td>\n",
       "      <td>1156</td>\n",
       "      <td>5701</td>\n",
       "      <td>330</td>\n",
       "      <td>8567</td>\n",
       "      <td>124</td>\n",
       "      <td>1802</td>\n",
       "    </tr>\n",
       "    <tr>\n",
       "      <th>3</th>\n",
       "      <td>1983/84</td>\n",
       "      <td>993</td>\n",
       "      <td>4265</td>\n",
       "      <td>391</td>\n",
       "      <td>8905</td>\n",
       "      <td>141</td>\n",
       "      <td>1078</td>\n",
       "    </tr>\n",
       "    <tr>\n",
       "      <th>4</th>\n",
       "      <td>1984/85</td>\n",
       "      <td>1182</td>\n",
       "      <td>5364</td>\n",
       "      <td>217</td>\n",
       "      <td>5813</td>\n",
       "      <td>343</td>\n",
       "      <td>4313</td>\n",
       "    </tr>\n",
       "  </tbody>\n",
       "</table>\n",
       "</div>"
      ],
      "text/plain": [
       "  water_year  rain_octsep  outflow_octsep  rain_decfeb  outflow_decfeb  \\\n",
       "0    1980/81         1182            5408          292            7248   \n",
       "1    1981/82         1098            5112          257            7316   \n",
       "2    1982/83         1156            5701          330            8567   \n",
       "3    1983/84          993            4265          391            8905   \n",
       "4    1984/85         1182            5364          217            5813   \n",
       "\n",
       "   rain_junaug  outflow_junaug  \n",
       "0          174            2212  \n",
       "1          242            1936  \n",
       "2          124            1802  \n",
       "3          141            1078  \n",
       "4          343            4313  "
      ]
     },
     "execution_count": 25,
     "metadata": {},
     "output_type": "execute_result"
    }
   ],
   "source": [
    "df = df.reset_index('water_year')\n",
    "df.head(5)"
   ]
  },
  {
   "cell_type": "markdown",
   "metadata": {},
   "source": [
    "## APPLYING FUNCTIONS TO DATASETS"
   ]
  },
  {
   "cell_type": "code",
   "execution_count": 26,
   "metadata": {
    "collapsed": false
   },
   "outputs": [
    {
     "data": {
      "text/html": [
       "<div>\n",
       "<table border=\"1\" class=\"dataframe\">\n",
       "  <thead>\n",
       "    <tr style=\"text-align: right;\">\n",
       "      <th></th>\n",
       "      <th>water_year</th>\n",
       "      <th>rain_octsep</th>\n",
       "      <th>outflow_octsep</th>\n",
       "      <th>rain_decfeb</th>\n",
       "      <th>outflow_decfeb</th>\n",
       "      <th>rain_junaug</th>\n",
       "      <th>outflow_junaug</th>\n",
       "      <th>year</th>\n",
       "    </tr>\n",
       "  </thead>\n",
       "  <tbody>\n",
       "    <tr>\n",
       "      <th>0</th>\n",
       "      <td>1980/81</td>\n",
       "      <td>1182</td>\n",
       "      <td>5408</td>\n",
       "      <td>292</td>\n",
       "      <td>7248</td>\n",
       "      <td>174</td>\n",
       "      <td>2212</td>\n",
       "      <td>1980</td>\n",
       "    </tr>\n",
       "    <tr>\n",
       "      <th>1</th>\n",
       "      <td>1981/82</td>\n",
       "      <td>1098</td>\n",
       "      <td>5112</td>\n",
       "      <td>257</td>\n",
       "      <td>7316</td>\n",
       "      <td>242</td>\n",
       "      <td>1936</td>\n",
       "      <td>1981</td>\n",
       "    </tr>\n",
       "    <tr>\n",
       "      <th>2</th>\n",
       "      <td>1982/83</td>\n",
       "      <td>1156</td>\n",
       "      <td>5701</td>\n",
       "      <td>330</td>\n",
       "      <td>8567</td>\n",
       "      <td>124</td>\n",
       "      <td>1802</td>\n",
       "      <td>1982</td>\n",
       "    </tr>\n",
       "    <tr>\n",
       "      <th>3</th>\n",
       "      <td>1983/84</td>\n",
       "      <td>993</td>\n",
       "      <td>4265</td>\n",
       "      <td>391</td>\n",
       "      <td>8905</td>\n",
       "      <td>141</td>\n",
       "      <td>1078</td>\n",
       "      <td>1983</td>\n",
       "    </tr>\n",
       "    <tr>\n",
       "      <th>4</th>\n",
       "      <td>1984/85</td>\n",
       "      <td>1182</td>\n",
       "      <td>5364</td>\n",
       "      <td>217</td>\n",
       "      <td>5813</td>\n",
       "      <td>343</td>\n",
       "      <td>4313</td>\n",
       "      <td>1984</td>\n",
       "    </tr>\n",
       "  </tbody>\n",
       "</table>\n",
       "</div>"
      ],
      "text/plain": [
       "  water_year  rain_octsep  outflow_octsep  rain_decfeb  outflow_decfeb  \\\n",
       "0    1980/81         1182            5408          292            7248   \n",
       "1    1981/82         1098            5112          257            7316   \n",
       "2    1982/83         1156            5701          330            8567   \n",
       "3    1983/84          993            4265          391            8905   \n",
       "4    1984/85         1182            5364          217            5813   \n",
       "\n",
       "   rain_junaug  outflow_junaug  year  \n",
       "0          174            2212  1980  \n",
       "1          242            1936  1981  \n",
       "2          124            1802  1982  \n",
       "3          141            1078  1983  \n",
       "4          343            4313  1984  "
      ]
     },
     "execution_count": 26,
     "metadata": {},
     "output_type": "execute_result"
    }
   ],
   "source": [
    "def base_year(year):\n",
    "    base_year = year[:4]\n",
    "    base_year= pd.to_datetime(base_year).year\n",
    "    return base_year\n",
    "\n",
    "df['year'] = df.water_year.apply(base_year)\n",
    "df.head(5)"
   ]
  },
  {
   "cell_type": "markdown",
   "metadata": {
    "collapsed": true
   },
   "source": [
    "## MANIPULATING A DATASET’S STRUCTURE"
   ]
  },
  {
   "cell_type": "code",
   "execution_count": 27,
   "metadata": {
    "collapsed": false
   },
   "outputs": [
    {
     "data": {
      "text/html": [
       "<div>\n",
       "<table border=\"1\" class=\"dataframe\">\n",
       "  <thead>\n",
       "    <tr style=\"text-align: right;\">\n",
       "      <th></th>\n",
       "      <th>water_year</th>\n",
       "      <th>rain_octsep</th>\n",
       "      <th>outflow_octsep</th>\n",
       "      <th>rain_decfeb</th>\n",
       "      <th>outflow_decfeb</th>\n",
       "      <th>rain_junaug</th>\n",
       "      <th>outflow_junaug</th>\n",
       "      <th>year</th>\n",
       "    </tr>\n",
       "    <tr>\n",
       "      <th>year</th>\n",
       "      <th></th>\n",
       "      <th></th>\n",
       "      <th></th>\n",
       "      <th></th>\n",
       "      <th></th>\n",
       "      <th></th>\n",
       "      <th></th>\n",
       "      <th></th>\n",
       "    </tr>\n",
       "  </thead>\n",
       "  <tbody>\n",
       "    <tr>\n",
       "      <th>1980</th>\n",
       "      <td>1989/90</td>\n",
       "      <td>1210</td>\n",
       "      <td>5701</td>\n",
       "      <td>470</td>\n",
       "      <td>10520</td>\n",
       "      <td>343</td>\n",
       "      <td>4313</td>\n",
       "      <td>1989</td>\n",
       "    </tr>\n",
       "    <tr>\n",
       "      <th>1990</th>\n",
       "      <td>1999/00</td>\n",
       "      <td>1268</td>\n",
       "      <td>5824</td>\n",
       "      <td>484</td>\n",
       "      <td>11486</td>\n",
       "      <td>285</td>\n",
       "      <td>3206</td>\n",
       "      <td>1999</td>\n",
       "    </tr>\n",
       "    <tr>\n",
       "      <th>2000</th>\n",
       "      <td>2009/10</td>\n",
       "      <td>1387</td>\n",
       "      <td>6391</td>\n",
       "      <td>437</td>\n",
       "      <td>10926</td>\n",
       "      <td>357</td>\n",
       "      <td>5168</td>\n",
       "      <td>2009</td>\n",
       "    </tr>\n",
       "    <tr>\n",
       "      <th>2010</th>\n",
       "      <td>2012/13</td>\n",
       "      <td>1285</td>\n",
       "      <td>5500</td>\n",
       "      <td>350</td>\n",
       "      <td>9615</td>\n",
       "      <td>379</td>\n",
       "      <td>5261</td>\n",
       "      <td>2012</td>\n",
       "    </tr>\n",
       "  </tbody>\n",
       "</table>\n",
       "</div>"
      ],
      "text/plain": [
       "     water_year  rain_octsep  outflow_octsep  rain_decfeb  outflow_decfeb  \\\n",
       "year                                                                        \n",
       "1980    1989/90         1210            5701          470           10520   \n",
       "1990    1999/00         1268            5824          484           11486   \n",
       "2000    2009/10         1387            6391          437           10926   \n",
       "2010    2012/13         1285            5500          350            9615   \n",
       "\n",
       "      rain_junaug  outflow_junaug  year  \n",
       "year                                     \n",
       "1980          343            4313  1989  \n",
       "1990          285            3206  1999  \n",
       "2000          357            5168  2009  \n",
       "2010          379            5261  2012  "
      ]
     },
     "execution_count": 27,
     "metadata": {},
     "output_type": "execute_result"
    }
   ],
   "source": [
    "df.groupby(df.year // 10 * 10).max()"
   ]
  },
  {
   "cell_type": "code",
   "execution_count": 28,
   "metadata": {
    "collapsed": false
   },
   "outputs": [
    {
     "data": {
      "text/html": [
       "<div>\n",
       "<table border=\"1\" class=\"dataframe\">\n",
       "  <thead>\n",
       "    <tr style=\"text-align: right;\">\n",
       "      <th></th>\n",
       "      <th></th>\n",
       "      <th>outflow_octsep</th>\n",
       "      <th>outflow_decfeb</th>\n",
       "      <th>outflow_junaug</th>\n",
       "    </tr>\n",
       "    <tr>\n",
       "      <th>year</th>\n",
       "      <th>rain_octsep</th>\n",
       "      <th></th>\n",
       "      <th></th>\n",
       "      <th></th>\n",
       "    </tr>\n",
       "  </thead>\n",
       "  <tbody>\n",
       "    <tr>\n",
       "      <th rowspan=\"2\" valign=\"top\">1980</th>\n",
       "      <th>0</th>\n",
       "      <td>4,297.500</td>\n",
       "      <td>7,685.000</td>\n",
       "      <td>1,259.000</td>\n",
       "    </tr>\n",
       "    <tr>\n",
       "      <th>1000</th>\n",
       "      <td>5,289.625</td>\n",
       "      <td>7,933.000</td>\n",
       "      <td>2,572.250</td>\n",
       "    </tr>\n",
       "    <tr>\n",
       "      <th rowspan=\"2\" valign=\"top\">1990</th>\n",
       "      <th>0</th>\n",
       "      <td>3,479.000</td>\n",
       "      <td>5,515.000</td>\n",
       "      <td>1,439.000</td>\n",
       "    </tr>\n",
       "    <tr>\n",
       "      <th>1000</th>\n",
       "      <td>5,064.889</td>\n",
       "      <td>8,363.111</td>\n",
       "      <td>2,130.556</td>\n",
       "    </tr>\n",
       "    <tr>\n",
       "      <th>2000</th>\n",
       "      <th>1000</th>\n",
       "      <td>5,030.800</td>\n",
       "      <td>7,812.100</td>\n",
       "      <td>2,685.900</td>\n",
       "    </tr>\n",
       "    <tr>\n",
       "      <th>2010</th>\n",
       "      <th>1000</th>\n",
       "      <td>5,116.667</td>\n",
       "      <td>7,946.000</td>\n",
       "      <td>3,314.333</td>\n",
       "    </tr>\n",
       "  </tbody>\n",
       "</table>\n",
       "</div>"
      ],
      "text/plain": [
       "                  outflow_octsep  outflow_decfeb  outflow_junaug\n",
       "year rain_octsep                                                \n",
       "1980 0                 4,297.500       7,685.000       1,259.000\n",
       "     1000              5,289.625       7,933.000       2,572.250\n",
       "1990 0                 3,479.000       5,515.000       1,439.000\n",
       "     1000              5,064.889       8,363.111       2,130.556\n",
       "2000 1000              5,030.800       7,812.100       2,685.900\n",
       "2010 1000              5,116.667       7,946.000       3,314.333"
      ]
     },
     "execution_count": 28,
     "metadata": {},
     "output_type": "execute_result"
    }
   ],
   "source": [
    "decade_rain = df.groupby([df.year // 10 * 10, df.rain_octsep // 1000 * 1000])[['outflow_octsep',\n",
    "                                                                              'outflow_decfeb',\n",
    "                                                                              'outflow_junaug']].mean()\n",
    "decade_rain"
   ]
  },
  {
   "cell_type": "code",
   "execution_count": 29,
   "metadata": {
    "collapsed": false
   },
   "outputs": [
    {
     "data": {
      "text/html": [
       "<div>\n",
       "<table border=\"1\" class=\"dataframe\">\n",
       "  <thead>\n",
       "    <tr>\n",
       "      <th></th>\n",
       "      <th colspan=\"4\" halign=\"left\">outflow_octsep</th>\n",
       "      <th colspan=\"4\" halign=\"left\">outflow_decfeb</th>\n",
       "      <th colspan=\"4\" halign=\"left\">outflow_junaug</th>\n",
       "    </tr>\n",
       "    <tr>\n",
       "      <th>year</th>\n",
       "      <th>1980</th>\n",
       "      <th>1990</th>\n",
       "      <th>2000</th>\n",
       "      <th>2010</th>\n",
       "      <th>1980</th>\n",
       "      <th>1990</th>\n",
       "      <th>2000</th>\n",
       "      <th>2010</th>\n",
       "      <th>1980</th>\n",
       "      <th>1990</th>\n",
       "      <th>2000</th>\n",
       "      <th>2010</th>\n",
       "    </tr>\n",
       "    <tr>\n",
       "      <th>rain_octsep</th>\n",
       "      <th></th>\n",
       "      <th></th>\n",
       "      <th></th>\n",
       "      <th></th>\n",
       "      <th></th>\n",
       "      <th></th>\n",
       "      <th></th>\n",
       "      <th></th>\n",
       "      <th></th>\n",
       "      <th></th>\n",
       "      <th></th>\n",
       "      <th></th>\n",
       "    </tr>\n",
       "  </thead>\n",
       "  <tbody>\n",
       "    <tr>\n",
       "      <th>0</th>\n",
       "      <td>4,297.500</td>\n",
       "      <td>3,479.000</td>\n",
       "      <td>nan</td>\n",
       "      <td>nan</td>\n",
       "      <td>7,685.000</td>\n",
       "      <td>5,515.000</td>\n",
       "      <td>nan</td>\n",
       "      <td>nan</td>\n",
       "      <td>1,259.000</td>\n",
       "      <td>1,439.000</td>\n",
       "      <td>nan</td>\n",
       "      <td>nan</td>\n",
       "    </tr>\n",
       "    <tr>\n",
       "      <th>1000</th>\n",
       "      <td>5,289.625</td>\n",
       "      <td>5,064.889</td>\n",
       "      <td>5,030.800</td>\n",
       "      <td>5,116.667</td>\n",
       "      <td>7,933.000</td>\n",
       "      <td>8,363.111</td>\n",
       "      <td>7,812.100</td>\n",
       "      <td>7,946.000</td>\n",
       "      <td>2,572.250</td>\n",
       "      <td>2,130.556</td>\n",
       "      <td>2,685.900</td>\n",
       "      <td>3,314.333</td>\n",
       "    </tr>\n",
       "  </tbody>\n",
       "</table>\n",
       "</div>"
      ],
      "text/plain": [
       "            outflow_octsep                               outflow_decfeb  \\\n",
       "year                  1980      1990      2000      2010           1980   \n",
       "rain_octsep                                                               \n",
       "0                4,297.500 3,479.000       nan       nan      7,685.000   \n",
       "1000             5,289.625 5,064.889 5,030.800 5,116.667      7,933.000   \n",
       "\n",
       "                                          outflow_junaug                      \\\n",
       "year             1990      2000      2010           1980      1990      2000   \n",
       "rain_octsep                                                                    \n",
       "0           5,515.000       nan       nan      1,259.000 1,439.000       nan   \n",
       "1000        8,363.111 7,812.100 7,946.000      2,572.250 2,130.556 2,685.900   \n",
       "\n",
       "                       \n",
       "year             2010  \n",
       "rain_octsep            \n",
       "0                 nan  \n",
       "1000        3,314.333  "
      ]
     },
     "execution_count": 29,
     "metadata": {},
     "output_type": "execute_result"
    }
   ],
   "source": [
    "decade_rain.unstack(0)"
   ]
  },
  {
   "cell_type": "code",
   "execution_count": 30,
   "metadata": {
    "collapsed": false
   },
   "outputs": [
    {
     "data": {
      "text/html": [
       "<div>\n",
       "<table border=\"1\" class=\"dataframe\">\n",
       "  <thead>\n",
       "    <tr>\n",
       "      <th></th>\n",
       "      <th colspan=\"2\" halign=\"left\">outflow_octsep</th>\n",
       "      <th colspan=\"2\" halign=\"left\">outflow_decfeb</th>\n",
       "      <th colspan=\"2\" halign=\"left\">outflow_junaug</th>\n",
       "    </tr>\n",
       "    <tr>\n",
       "      <th>rain_octsep</th>\n",
       "      <th>0</th>\n",
       "      <th>1000</th>\n",
       "      <th>0</th>\n",
       "      <th>1000</th>\n",
       "      <th>0</th>\n",
       "      <th>1000</th>\n",
       "    </tr>\n",
       "    <tr>\n",
       "      <th>year</th>\n",
       "      <th></th>\n",
       "      <th></th>\n",
       "      <th></th>\n",
       "      <th></th>\n",
       "      <th></th>\n",
       "      <th></th>\n",
       "    </tr>\n",
       "  </thead>\n",
       "  <tbody>\n",
       "    <tr>\n",
       "      <th>1980</th>\n",
       "      <td>4,297.500</td>\n",
       "      <td>5,289.625</td>\n",
       "      <td>7,685.000</td>\n",
       "      <td>7,933.000</td>\n",
       "      <td>1,259.000</td>\n",
       "      <td>2,572.250</td>\n",
       "    </tr>\n",
       "    <tr>\n",
       "      <th>1990</th>\n",
       "      <td>3,479.000</td>\n",
       "      <td>5,064.889</td>\n",
       "      <td>5,515.000</td>\n",
       "      <td>8,363.111</td>\n",
       "      <td>1,439.000</td>\n",
       "      <td>2,130.556</td>\n",
       "    </tr>\n",
       "    <tr>\n",
       "      <th>2000</th>\n",
       "      <td>nan</td>\n",
       "      <td>5,030.800</td>\n",
       "      <td>nan</td>\n",
       "      <td>7,812.100</td>\n",
       "      <td>nan</td>\n",
       "      <td>2,685.900</td>\n",
       "    </tr>\n",
       "    <tr>\n",
       "      <th>2010</th>\n",
       "      <td>nan</td>\n",
       "      <td>5,116.667</td>\n",
       "      <td>nan</td>\n",
       "      <td>7,946.000</td>\n",
       "      <td>nan</td>\n",
       "      <td>3,314.333</td>\n",
       "    </tr>\n",
       "  </tbody>\n",
       "</table>\n",
       "</div>"
      ],
      "text/plain": [
       "            outflow_octsep           outflow_decfeb           outflow_junaug  \\\n",
       "rain_octsep           0         1000           0         1000           0      \n",
       "year                                                                           \n",
       "1980             4,297.500 5,289.625      7,685.000 7,933.000      1,259.000   \n",
       "1990             3,479.000 5,064.889      5,515.000 8,363.111      1,439.000   \n",
       "2000                   nan 5,030.800            nan 7,812.100            nan   \n",
       "2010                   nan 5,116.667            nan 7,946.000            nan   \n",
       "\n",
       "                       \n",
       "rain_octsep      1000  \n",
       "year                   \n",
       "1980        2,572.250  \n",
       "1990        2,130.556  \n",
       "2000        2,685.900  \n",
       "2010        3,314.333  "
      ]
     },
     "execution_count": 30,
     "metadata": {},
     "output_type": "execute_result"
    }
   ],
   "source": [
    "decade_rain.unstack(1)"
   ]
  },
  {
   "cell_type": "code",
   "execution_count": 31,
   "metadata": {
    "collapsed": false
   },
   "outputs": [
    {
     "data": {
      "text/html": [
       "<div>\n",
       "<table border=\"1\" class=\"dataframe\">\n",
       "  <thead>\n",
       "    <tr style=\"text-align: right;\">\n",
       "      <th></th>\n",
       "      <th>water_year</th>\n",
       "      <th>rain_octsep</th>\n",
       "      <th>outflow_octsep</th>\n",
       "      <th>rain_decfeb</th>\n",
       "      <th>outflow_decfeb</th>\n",
       "      <th>rain_junaug</th>\n",
       "      <th>outflow_junaug</th>\n",
       "      <th>year</th>\n",
       "    </tr>\n",
       "  </thead>\n",
       "  <tbody>\n",
       "    <tr>\n",
       "      <th>18</th>\n",
       "      <td>1998/99</td>\n",
       "      <td>1268</td>\n",
       "      <td>5824</td>\n",
       "      <td>360</td>\n",
       "      <td>8771</td>\n",
       "      <td>225</td>\n",
       "      <td>2240</td>\n",
       "      <td>1998</td>\n",
       "    </tr>\n",
       "    <tr>\n",
       "      <th>26</th>\n",
       "      <td>2006/07</td>\n",
       "      <td>1387</td>\n",
       "      <td>6391</td>\n",
       "      <td>437</td>\n",
       "      <td>10926</td>\n",
       "      <td>357</td>\n",
       "      <td>5168</td>\n",
       "      <td>2006</td>\n",
       "    </tr>\n",
       "    <tr>\n",
       "      <th>31</th>\n",
       "      <td>2011/12</td>\n",
       "      <td>1285</td>\n",
       "      <td>5500</td>\n",
       "      <td>339</td>\n",
       "      <td>7630</td>\n",
       "      <td>379</td>\n",
       "      <td>5261</td>\n",
       "      <td>2011</td>\n",
       "    </tr>\n",
       "  </tbody>\n",
       "</table>\n",
       "</div>"
      ],
      "text/plain": [
       "   water_year  rain_octsep  outflow_octsep  rain_decfeb  outflow_decfeb  \\\n",
       "18    1998/99         1268            5824          360            8771   \n",
       "26    2006/07         1387            6391          437           10926   \n",
       "31    2011/12         1285            5500          339            7630   \n",
       "\n",
       "    rain_junaug  outflow_junaug  year  \n",
       "18          225            2240  1998  \n",
       "26          357            5168  2006  \n",
       "31          379            5261  2011  "
      ]
     },
     "execution_count": 31,
     "metadata": {},
     "output_type": "execute_result"
    }
   ],
   "source": [
    "high_rain = df[df.rain_octsep > 1250]\n",
    "high_rain"
   ]
  },
  {
   "cell_type": "code",
   "execution_count": 32,
   "metadata": {
    "collapsed": false
   },
   "outputs": [
    {
     "data": {
      "text/html": [
       "<div>\n",
       "<table border=\"1\" class=\"dataframe\">\n",
       "  <thead>\n",
       "    <tr>\n",
       "      <th></th>\n",
       "      <th colspan=\"3\" halign=\"left\">outflow_octsep</th>\n",
       "      <th colspan=\"3\" halign=\"left\">outflow_decfeb</th>\n",
       "      <th colspan=\"3\" halign=\"left\">outflow_junaug</th>\n",
       "    </tr>\n",
       "    <tr>\n",
       "      <th>rain_octsep</th>\n",
       "      <th>1268</th>\n",
       "      <th>1285</th>\n",
       "      <th>1387</th>\n",
       "      <th>1268</th>\n",
       "      <th>1285</th>\n",
       "      <th>1387</th>\n",
       "      <th>1268</th>\n",
       "      <th>1285</th>\n",
       "      <th>1387</th>\n",
       "    </tr>\n",
       "    <tr>\n",
       "      <th>year</th>\n",
       "      <th></th>\n",
       "      <th></th>\n",
       "      <th></th>\n",
       "      <th></th>\n",
       "      <th></th>\n",
       "      <th></th>\n",
       "      <th></th>\n",
       "      <th></th>\n",
       "      <th></th>\n",
       "    </tr>\n",
       "  </thead>\n",
       "  <tbody>\n",
       "    <tr>\n",
       "      <th>1998</th>\n",
       "      <td>5,824.000</td>\n",
       "      <td></td>\n",
       "      <td></td>\n",
       "      <td>8,771.000</td>\n",
       "      <td></td>\n",
       "      <td></td>\n",
       "      <td>2,240.000</td>\n",
       "      <td></td>\n",
       "      <td></td>\n",
       "    </tr>\n",
       "    <tr>\n",
       "      <th>2006</th>\n",
       "      <td></td>\n",
       "      <td></td>\n",
       "      <td>6,391.000</td>\n",
       "      <td></td>\n",
       "      <td></td>\n",
       "      <td>10,926.000</td>\n",
       "      <td></td>\n",
       "      <td></td>\n",
       "      <td>5,168.000</td>\n",
       "    </tr>\n",
       "    <tr>\n",
       "      <th>2011</th>\n",
       "      <td></td>\n",
       "      <td>5,500.000</td>\n",
       "      <td></td>\n",
       "      <td></td>\n",
       "      <td>7,630.000</td>\n",
       "      <td></td>\n",
       "      <td></td>\n",
       "      <td>5,261.000</td>\n",
       "      <td></td>\n",
       "    </tr>\n",
       "  </tbody>\n",
       "</table>\n",
       "</div>"
      ],
      "text/plain": [
       "            outflow_octsep                     outflow_decfeb            \\\n",
       "rain_octsep           1268      1285      1387           1268      1285   \n",
       "year                                                                      \n",
       "1998             5,824.000                          8,771.000             \n",
       "2006                                 6,391.000                            \n",
       "2011                       5,500.000                          7,630.000   \n",
       "\n",
       "                       outflow_junaug                      \n",
       "rain_octsep       1387           1268      1285      1387  \n",
       "year                                                       \n",
       "1998                        2,240.000                      \n",
       "2006        10,926.000                          5,168.000  \n",
       "2011                                  5,261.000            "
      ]
     },
     "execution_count": 32,
     "metadata": {},
     "output_type": "execute_result"
    }
   ],
   "source": [
    "high_rain.pivot('year', 'rain_octsep')[['outflow_octsep', 'outflow_decfeb', 'outflow_junaug']].fillna('')"
   ]
  },
  {
   "cell_type": "markdown",
   "metadata": {},
   "source": [
    "## COMBINING DATASETS"
   ]
  },
  {
   "cell_type": "code",
   "execution_count": null,
   "metadata": {
    "collapsed": false
   },
   "outputs": [],
   "source": []
  },
  {
   "cell_type": "markdown",
   "metadata": {},
   "source": [
    "## USING PANDAS TO PLOT GRAPHS QUICKLY"
   ]
  },
  {
   "cell_type": "code",
   "execution_count": 33,
   "metadata": {
    "collapsed": false
   },
   "outputs": [
    {
     "name": "stderr",
     "output_type": "stream",
     "text": [
      "/Users/KIKIM/anaconda3/envs/dsci2/lib/python2.7/site-packages/matplotlib/font_manager.py:273: UserWarning: Matplotlib is building the font cache using fc-list. This may take a moment.\n",
      "  warnings.warn('Matplotlib is building the font cache using fc-list. This may take a moment.')\n"
     ]
    },
    {
     "data": {
      "text/plain": [
       "<matplotlib.axes._subplots.AxesSubplot at 0x10d576210>"
      ]
     },
     "execution_count": 33,
     "metadata": {},
     "output_type": "execute_result"
    },
    {
     "data": {
      "image/png": "[encoded data removed]",
      "text/plain": [
       "<matplotlib.figure.Figure at 0x10d529910>"
      ]
     },
     "metadata": {},
     "output_type": "display_data"
    }
   ],
   "source": [
    "%matplotlib inline\n",
    "df.plot(x='year', y=['rain_octsep'])"
   ]
  },
  {
   "cell_type": "code",
   "execution_count": null,
   "metadata": {
    "collapsed": true
   },
   "outputs": [],
   "source": []
  },
  {
   "cell_type": "code",
   "execution_count": null,
   "metadata": {
    "collapsed": true
   },
   "outputs": [],
   "source": []
  }
 ],
 "metadata": {
  "kernelspec": {
   "display_name": "Python [dsci2]",
   "language": "python",
   "name": "Python [dsci2]"
  },
  "language_info": {
   "codemirror_mode": {
    "name": "ipython",
    "version": 2
   },
   "file_extension": ".py",
   "mimetype": "text/x-python",
   "name": "python",
   "nbconvert_exporter": "python",
   "pygments_lexer": "ipython2",
   "version": "2.7.12"
  }
 },
 "nbformat": 4,
 "nbformat_minor": 0
}
